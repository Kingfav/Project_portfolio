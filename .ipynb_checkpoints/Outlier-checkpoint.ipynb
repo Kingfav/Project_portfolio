{
 "cells": [
  {
   "cell_type": "markdown",
   "id": "2fc1dbc8-2bd5-4fe7-a312-410c7593281d",
   "metadata": {},
   "source": [
    "## Student Mental Health Analysis During Online Learning"
   ]
  },
  {
   "cell_type": "markdown",
   "id": "b8f5b472-5fe6-4095-9e42-a4eb5123a953",
   "metadata": {},
   "source": [
    "**Introduction**\n",
    "\n"
   ]
  },
  {
   "cell_type": "markdown",
   "id": "082467cb-ad44-4e5d-befc-1941fd7d01c9",
   "metadata": {},
   "source": [
    "This project explores the impact of online learning on students' mental health, particularly focusing on factors such as stress, anxiety, screen time, and physical activity. Using a dataset that includes demographic, behavioral, and psychological variables, the goal is to predict changes in academic performance and understand the key contributors to mental health variations. By applying machine learning techniques—such as data preprocessing, feature engineering, and classification models—we aim to build an accurate and interpretable predictive model to inform support strategies for students in digital learning environments."
   ]
  },
  {
   "cell_type": "code",
   "execution_count": 23,
   "id": "5939b873-1506-495c-a434-9c0587ebcd2f",
   "metadata": {},
   "outputs": [],
   "source": [
    "# import libraries\n",
    "import seaborn as sns\n",
    "from sklearn.compose import ColumnTransformer\n",
    "from sklearn.preprocessing import LabelEncoder\n",
    "from sklearn.preprocessing import OneHotEncoder\n",
    "from sklearn.pipeline import Pipeline\n",
    "from sklearn.model_selection import train_test_split\n",
    "from sklearn.linear_model import LogisticRegression\n",
    "from sklearn.preprocessing import OrdinalEncoder\n",
    "from sklearn.ensemble import RandomForestClassifier\n",
    "import pandas as pd\n",
    "import matplotlib.pyplot as plt\n",
    "import warnings"
   ]
  },
  {
   "cell_type": "code",
   "execution_count": 40,
   "id": "033b22d7-1e31-4d7c-a16e-ca431576eb76",
   "metadata": {},
   "outputs": [],
   "source": [
    "warnings.filterwarnings('ignore')"
   ]
  },
  {
   "cell_type": "markdown",
   "id": "9814033c-b977-47f7-ab52-c8f0e6c85fa8",
   "metadata": {},
   "source": [
    "### Data Loading and Exploratory Data Analysis"
   ]
  },
  {
   "cell_type": "code",
   "execution_count": 41,
   "id": "e6f0595c-1cb9-4885-b64e-7ee8cda1eecb",
   "metadata": {},
   "outputs": [
    {
     "data": {
      "text/html": [
       "<div>\n",
       "<style scoped>\n",
       "    .dataframe tbody tr th:only-of-type {\n",
       "        vertical-align: middle;\n",
       "    }\n",
       "\n",
       "    .dataframe tbody tr th {\n",
       "        vertical-align: top;\n",
       "    }\n",
       "\n",
       "    .dataframe thead th {\n",
       "        text-align: right;\n",
       "    }\n",
       "</style>\n",
       "<table border=\"1\" class=\"dataframe\">\n",
       "  <thead>\n",
       "    <tr style=\"text-align: right;\">\n",
       "      <th></th>\n",
       "      <th>Name</th>\n",
       "      <th>Gender</th>\n",
       "      <th>Age</th>\n",
       "      <th>Education Level</th>\n",
       "      <th>Screen Time (hrs/day)</th>\n",
       "      <th>Sleep Duration (hrs)</th>\n",
       "      <th>Physical Activity (hrs/week)</th>\n",
       "      <th>Stress Level</th>\n",
       "      <th>Anxious Before Exams</th>\n",
       "      <th>Academic Performance Change</th>\n",
       "    </tr>\n",
       "  </thead>\n",
       "  <tbody>\n",
       "    <tr>\n",
       "      <th>0</th>\n",
       "      <td>Aarav</td>\n",
       "      <td>Male</td>\n",
       "      <td>15</td>\n",
       "      <td>Class 8</td>\n",
       "      <td>7.1</td>\n",
       "      <td>8.9</td>\n",
       "      <td>9.3</td>\n",
       "      <td>Medium</td>\n",
       "      <td>No</td>\n",
       "      <td>Same</td>\n",
       "    </tr>\n",
       "    <tr>\n",
       "      <th>1</th>\n",
       "      <td>Meera</td>\n",
       "      <td>Female</td>\n",
       "      <td>25</td>\n",
       "      <td>MSc</td>\n",
       "      <td>3.3</td>\n",
       "      <td>5.0</td>\n",
       "      <td>0.2</td>\n",
       "      <td>Medium</td>\n",
       "      <td>No</td>\n",
       "      <td>Same</td>\n",
       "    </tr>\n",
       "    <tr>\n",
       "      <th>2</th>\n",
       "      <td>Ishaan</td>\n",
       "      <td>Male</td>\n",
       "      <td>20</td>\n",
       "      <td>BTech</td>\n",
       "      <td>9.5</td>\n",
       "      <td>5.4</td>\n",
       "      <td>6.2</td>\n",
       "      <td>Medium</td>\n",
       "      <td>No</td>\n",
       "      <td>Same</td>\n",
       "    </tr>\n",
       "    <tr>\n",
       "      <th>3</th>\n",
       "      <td>Aditya</td>\n",
       "      <td>Male</td>\n",
       "      <td>20</td>\n",
       "      <td>BA</td>\n",
       "      <td>10.8</td>\n",
       "      <td>5.6</td>\n",
       "      <td>5.5</td>\n",
       "      <td>High</td>\n",
       "      <td>Yes</td>\n",
       "      <td>Same</td>\n",
       "    </tr>\n",
       "    <tr>\n",
       "      <th>4</th>\n",
       "      <td>Anika</td>\n",
       "      <td>Female</td>\n",
       "      <td>17</td>\n",
       "      <td>Class 11</td>\n",
       "      <td>2.8</td>\n",
       "      <td>5.4</td>\n",
       "      <td>3.1</td>\n",
       "      <td>Medium</td>\n",
       "      <td>Yes</td>\n",
       "      <td>Same</td>\n",
       "    </tr>\n",
       "  </tbody>\n",
       "</table>\n",
       "</div>"
      ],
      "text/plain": [
       "     Name  Gender  Age Education Level  Screen Time (hrs/day)  \\\n",
       "0   Aarav    Male   15         Class 8                    7.1   \n",
       "1   Meera  Female   25             MSc                    3.3   \n",
       "2  Ishaan    Male   20           BTech                    9.5   \n",
       "3  Aditya    Male   20              BA                   10.8   \n",
       "4   Anika  Female   17        Class 11                    2.8   \n",
       "\n",
       "   Sleep Duration (hrs)  Physical Activity (hrs/week) Stress Level  \\\n",
       "0                   8.9                           9.3       Medium   \n",
       "1                   5.0                           0.2       Medium   \n",
       "2                   5.4                           6.2       Medium   \n",
       "3                   5.6                           5.5         High   \n",
       "4                   5.4                           3.1       Medium   \n",
       "\n",
       "  Anxious Before Exams Academic Performance Change  \n",
       "0                   No                        Same  \n",
       "1                   No                        Same  \n",
       "2                   No                        Same  \n",
       "3                  Yes                        Same  \n",
       "4                  Yes                        Same  "
      ]
     },
     "execution_count": 41,
     "metadata": {},
     "output_type": "execute_result"
    }
   ],
   "source": [
    "#load my dataset\n",
    "df= pd.read_csv('C:/Users/USER/Downloads/Student Mental Health Analysis During Online Learning.csv')\n",
    "df.head()\n",
    "\n"
   ]
  },
  {
   "cell_type": "code",
   "execution_count": 42,
   "id": "4ac6d8b7-ca4a-4b1b-a770-49f031b4e160",
   "metadata": {},
   "outputs": [
    {
     "data": {
      "text/plain": [
       "Name                            0\n",
       "Gender                          0\n",
       "Age                             0\n",
       "Education Level                 0\n",
       "Screen Time (hrs/day)           0\n",
       "Sleep Duration (hrs)            0\n",
       "Physical Activity (hrs/week)    0\n",
       "Stress Level                    0\n",
       "Anxious Before Exams            0\n",
       "Academic Performance Change     0\n",
       "dtype: int64"
      ]
     },
     "execution_count": 42,
     "metadata": {},
     "output_type": "execute_result"
    }
   ],
   "source": [
    "# Drop the 'Name' column as it is an identifier and not useful for modeling and check for missing values\n",
    "#df = df.drop(['Name'], axis=1)\n",
    "df.isnull().sum()"
   ]
  },
  {
   "cell_type": "code",
   "execution_count": 43,
   "id": "a7320861-ba62-4cf0-ab6a-64f8eb37e28f",
   "metadata": {},
   "outputs": [
    {
     "data": {
      "text/html": [
       "<div>\n",
       "<style scoped>\n",
       "    .dataframe tbody tr th:only-of-type {\n",
       "        vertical-align: middle;\n",
       "    }\n",
       "\n",
       "    .dataframe tbody tr th {\n",
       "        vertical-align: top;\n",
       "    }\n",
       "\n",
       "    .dataframe thead th {\n",
       "        text-align: right;\n",
       "    }\n",
       "</style>\n",
       "<table border=\"1\" class=\"dataframe\">\n",
       "  <thead>\n",
       "    <tr style=\"text-align: right;\">\n",
       "      <th></th>\n",
       "      <th>Name</th>\n",
       "      <th>Gender</th>\n",
       "      <th>Age</th>\n",
       "      <th>Education Level</th>\n",
       "      <th>Screen Time (hrs/day)</th>\n",
       "      <th>Sleep Duration (hrs)</th>\n",
       "      <th>Physical Activity (hrs/week)</th>\n",
       "      <th>Stress Level</th>\n",
       "      <th>Anxious Before Exams</th>\n",
       "      <th>Academic Performance Change</th>\n",
       "      <th>Target</th>\n",
       "    </tr>\n",
       "  </thead>\n",
       "  <tbody>\n",
       "    <tr>\n",
       "      <th>0</th>\n",
       "      <td>Aarav</td>\n",
       "      <td>Male</td>\n",
       "      <td>15</td>\n",
       "      <td>Class 8</td>\n",
       "      <td>7.1</td>\n",
       "      <td>8.9</td>\n",
       "      <td>9.3</td>\n",
       "      <td>Medium</td>\n",
       "      <td>No</td>\n",
       "      <td>Same</td>\n",
       "      <td>2</td>\n",
       "    </tr>\n",
       "    <tr>\n",
       "      <th>1</th>\n",
       "      <td>Meera</td>\n",
       "      <td>Female</td>\n",
       "      <td>25</td>\n",
       "      <td>MSc</td>\n",
       "      <td>3.3</td>\n",
       "      <td>5.0</td>\n",
       "      <td>0.2</td>\n",
       "      <td>Medium</td>\n",
       "      <td>No</td>\n",
       "      <td>Same</td>\n",
       "      <td>2</td>\n",
       "    </tr>\n",
       "    <tr>\n",
       "      <th>2</th>\n",
       "      <td>Ishaan</td>\n",
       "      <td>Male</td>\n",
       "      <td>20</td>\n",
       "      <td>BTech</td>\n",
       "      <td>9.5</td>\n",
       "      <td>5.4</td>\n",
       "      <td>6.2</td>\n",
       "      <td>Medium</td>\n",
       "      <td>No</td>\n",
       "      <td>Same</td>\n",
       "      <td>2</td>\n",
       "    </tr>\n",
       "    <tr>\n",
       "      <th>3</th>\n",
       "      <td>Aditya</td>\n",
       "      <td>Male</td>\n",
       "      <td>20</td>\n",
       "      <td>BA</td>\n",
       "      <td>10.8</td>\n",
       "      <td>5.6</td>\n",
       "      <td>5.5</td>\n",
       "      <td>High</td>\n",
       "      <td>Yes</td>\n",
       "      <td>Same</td>\n",
       "      <td>2</td>\n",
       "    </tr>\n",
       "    <tr>\n",
       "      <th>4</th>\n",
       "      <td>Anika</td>\n",
       "      <td>Female</td>\n",
       "      <td>17</td>\n",
       "      <td>Class 11</td>\n",
       "      <td>2.8</td>\n",
       "      <td>5.4</td>\n",
       "      <td>3.1</td>\n",
       "      <td>Medium</td>\n",
       "      <td>Yes</td>\n",
       "      <td>Same</td>\n",
       "      <td>2</td>\n",
       "    </tr>\n",
       "    <tr>\n",
       "      <th>...</th>\n",
       "      <td>...</td>\n",
       "      <td>...</td>\n",
       "      <td>...</td>\n",
       "      <td>...</td>\n",
       "      <td>...</td>\n",
       "      <td>...</td>\n",
       "      <td>...</td>\n",
       "      <td>...</td>\n",
       "      <td>...</td>\n",
       "      <td>...</td>\n",
       "      <td>...</td>\n",
       "    </tr>\n",
       "    <tr>\n",
       "      <th>995</th>\n",
       "      <td>Diya</td>\n",
       "      <td>Female</td>\n",
       "      <td>26</td>\n",
       "      <td>MA</td>\n",
       "      <td>11.3</td>\n",
       "      <td>6.8</td>\n",
       "      <td>9.1</td>\n",
       "      <td>Medium</td>\n",
       "      <td>No</td>\n",
       "      <td>Same</td>\n",
       "      <td>2</td>\n",
       "    </tr>\n",
       "    <tr>\n",
       "      <th>996</th>\n",
       "      <td>Aarav</td>\n",
       "      <td>Male</td>\n",
       "      <td>20</td>\n",
       "      <td>BTech</td>\n",
       "      <td>5.5</td>\n",
       "      <td>6.7</td>\n",
       "      <td>6.8</td>\n",
       "      <td>Low</td>\n",
       "      <td>Yes</td>\n",
       "      <td>Same</td>\n",
       "      <td>2</td>\n",
       "    </tr>\n",
       "    <tr>\n",
       "      <th>997</th>\n",
       "      <td>Myra</td>\n",
       "      <td>Female</td>\n",
       "      <td>15</td>\n",
       "      <td>Class 9</td>\n",
       "      <td>7.1</td>\n",
       "      <td>4.1</td>\n",
       "      <td>1.9</td>\n",
       "      <td>Low</td>\n",
       "      <td>Yes</td>\n",
       "      <td>Declined</td>\n",
       "      <td>0</td>\n",
       "    </tr>\n",
       "    <tr>\n",
       "      <th>998</th>\n",
       "      <td>Myra</td>\n",
       "      <td>Female</td>\n",
       "      <td>20</td>\n",
       "      <td>BA</td>\n",
       "      <td>4.4</td>\n",
       "      <td>7.5</td>\n",
       "      <td>4.5</td>\n",
       "      <td>Medium</td>\n",
       "      <td>No</td>\n",
       "      <td>Improved</td>\n",
       "      <td>1</td>\n",
       "    </tr>\n",
       "    <tr>\n",
       "      <th>999</th>\n",
       "      <td>Vihaan</td>\n",
       "      <td>Male</td>\n",
       "      <td>23</td>\n",
       "      <td>MA</td>\n",
       "      <td>10.8</td>\n",
       "      <td>7.7</td>\n",
       "      <td>3.6</td>\n",
       "      <td>Low</td>\n",
       "      <td>No</td>\n",
       "      <td>Improved</td>\n",
       "      <td>1</td>\n",
       "    </tr>\n",
       "  </tbody>\n",
       "</table>\n",
       "<p>1000 rows × 11 columns</p>\n",
       "</div>"
      ],
      "text/plain": [
       "       Name  Gender  Age Education Level  Screen Time (hrs/day)  \\\n",
       "0     Aarav    Male   15         Class 8                    7.1   \n",
       "1     Meera  Female   25             MSc                    3.3   \n",
       "2    Ishaan    Male   20           BTech                    9.5   \n",
       "3    Aditya    Male   20              BA                   10.8   \n",
       "4     Anika  Female   17        Class 11                    2.8   \n",
       "..      ...     ...  ...             ...                    ...   \n",
       "995    Diya  Female   26              MA                   11.3   \n",
       "996   Aarav    Male   20           BTech                    5.5   \n",
       "997    Myra  Female   15         Class 9                    7.1   \n",
       "998    Myra  Female   20              BA                    4.4   \n",
       "999  Vihaan    Male   23              MA                   10.8   \n",
       "\n",
       "     Sleep Duration (hrs)  Physical Activity (hrs/week) Stress Level  \\\n",
       "0                     8.9                           9.3       Medium   \n",
       "1                     5.0                           0.2       Medium   \n",
       "2                     5.4                           6.2       Medium   \n",
       "3                     5.6                           5.5         High   \n",
       "4                     5.4                           3.1       Medium   \n",
       "..                    ...                           ...          ...   \n",
       "995                   6.8                           9.1       Medium   \n",
       "996                   6.7                           6.8          Low   \n",
       "997                   4.1                           1.9          Low   \n",
       "998                   7.5                           4.5       Medium   \n",
       "999                   7.7                           3.6          Low   \n",
       "\n",
       "    Anxious Before Exams Academic Performance Change  Target  \n",
       "0                     No                        Same       2  \n",
       "1                     No                        Same       2  \n",
       "2                     No                        Same       2  \n",
       "3                    Yes                        Same       2  \n",
       "4                    Yes                        Same       2  \n",
       "..                   ...                         ...     ...  \n",
       "995                   No                        Same       2  \n",
       "996                  Yes                        Same       2  \n",
       "997                  Yes                    Declined       0  \n",
       "998                   No                    Improved       1  \n",
       "999                   No                    Improved       1  \n",
       "\n",
       "[1000 rows x 11 columns]"
      ]
     },
     "execution_count": 43,
     "metadata": {},
     "output_type": "execute_result"
    }
   ],
   "source": [
    "# Encode the target variable (Academic Performance Change) into numeric values\n",
    "label_encoder = LabelEncoder()\n",
    "df['Target'] = label_encoder.fit_transform(df['Academic Performance Change'])\n",
    "df"
   ]
  },
  {
   "cell_type": "code",
   "execution_count": 44,
   "id": "d50d0e29-d1c2-4882-bf32-b4dcae9bab72",
   "metadata": {},
   "outputs": [],
   "source": [
    "# Drop the original target column since it's now encoded\n",
    "#df = df.drop(['Academic Performance Change'],axis = 1)\n",
    "dfle = df.drop(['Target'], axis=1)"
   ]
  },
  {
   "cell_type": "code",
   "execution_count": 45,
   "id": "c3c15e2b-cafb-44c5-b0e1-f7828f55d7db",
   "metadata": {},
   "outputs": [
    {
     "data": {
      "image/png": "[encoded data removed]",
      "text/plain": [
       "<Figure size 600x500 with 1 Axes>"
      ]
     },
     "metadata": {},
     "output_type": "display_data"
    }
   ],
   "source": [
    "plt.figure(figsize=(6, 5))\n",
    "sns.countplot(data=df, x='Anxious Before Exams', hue='Academic Performance Change')\n",
    "plt.title('Exam Anxiety vs Academic Performance Change')\n",
    "plt.xlabel('Anxious Before Exams')\n",
    "plt.ylabel('Number of Students')\n",
    "plt.legend(title='Performance Change')\n",
    "plt.tight_layout()\n",
    "plt.show()"
   ]
  },
  {
   "cell_type": "code",
   "execution_count": 46,
   "id": "62b6a743-ac24-4b28-b3e9-633f02f31ee5",
   "metadata": {},
   "outputs": [
    {
     "data": {
      "image/png": "[encoded data removed]",
      "text/plain": [
       "<Figure size 800x500 with 1 Axes>"
      ]
     },
     "metadata": {},
     "output_type": "display_data"
    }
   ],
   "source": [
    "import seaborn as sns\n",
    "import matplotlib.pyplot as plt\n",
    "\n",
    "plt.figure(figsize=(8, 5))\n",
    "sns.countplot(data=df, x='Stress Level', hue='Academic Performance Change')\n",
    "plt.title('Stress Level vs Academic Performance Change')\n",
    "plt.xlabel('Stress Level')\n",
    "plt.ylabel('Number of Students')\n",
    "plt.legend(title='Performance Change')\n",
    "plt.tight_layout()\n",
    "plt.show()"
   ]
  },
  {
   "cell_type": "code",
   "execution_count": 47,
   "id": "7090d4fe-f844-4a00-ae08-8905f1147de3",
   "metadata": {},
   "outputs": [],
   "source": [
    "# added two columns (feature engineering)\n",
    "dfle['Screentime_sleepratio'] = dfle['Screen Time (hrs/day)'] / dfle['Sleep Duration (hrs)']\n",
    "dfle['Activity_screenratio']  = dfle['Physical Activity (hrs/week)'] / dfle['Screen Time (hrs/day)']"
   ]
  },
  {
   "cell_type": "code",
   "execution_count": 48,
   "id": "104cf0aa-8f63-4d54-89fc-5a331f724295",
   "metadata": {},
   "outputs": [],
   "source": [
    "#Define types of features\n",
    "nominal_feature = ['Gender','Anxious Before Exams']\n",
    "ordinal_feature = ['Education Level','Stress Level']\n",
    "numerical_feature = ['Age','Screen Time (hrs/day)','Sleep Duration (hrs)','Physical Activity (hrs/week)','Screentime_sleepratio','Activity_screenratio']"
   ]
  },
  {
   "cell_type": "code",
   "execution_count": 49,
   "id": "d8e6ff60-d23b-4db8-a3c1-4aba43ec5bb0",
   "metadata": {},
   "outputs": [],
   "source": [
    "# Define order for ordinal categorie\n",
    "Education_categories = [['Class 8','Class 9','Class 10','Class 11','Class 12','BA','BSc', 'BTech', 'MA', 'MSc', 'MTech']]\n",
    "Stress_categories = [['Low', 'Medium', 'High']]\n"
   ]
  },
  {
   "cell_type": "code",
   "execution_count": 50,
   "id": "8c47b430-b982-4078-bdc0-72e96a73dd48",
   "metadata": {},
   "outputs": [],
   "source": [
    "df = df[df['Education Level'].isin(Education_categories[0])]\n",
    "df = df[df['Stress Level'].isin(Stress_categories[0])]"
   ]
  },
  {
   "cell_type": "code",
   "execution_count": 51,
   "id": "08ef1b3b-feb6-4e6e-942e-94d74fe22283",
   "metadata": {},
   "outputs": [],
   "source": [
    "# Create encoders\n",
    "ordinal_encoder = OrdinalEncoder(categories = Education_categories + Stress_categories)\n",
    "onehot_encoder = OneHotEncoder(drop='first')\n"
   ]
  },
  {
   "cell_type": "code",
   "execution_count": 52,
   "id": "34736599-3801-41a3-be88-424d1e4ae9d4",
   "metadata": {},
   "outputs": [],
   "source": [
    "# Create a ColumnTransformer to handle preprocessing\n",
    "preprocessor = ColumnTransformer(\n",
    "    transformers=[ ('num','passthrough', numerical_feature),\n",
    "                  ('ord' , ordinal_encoder, ordinal_feature),\n",
    "                  ('ohe', onehot_encoder, nominal_feature)\n",
    "                 ])\n",
    "    "
   ]
  },
  {
   "cell_type": "code",
   "execution_count": 53,
   "id": "7eeed71f-4cca-47b2-8477-e35f04a85bbf",
   "metadata": {},
   "outputs": [],
   "source": [
    "# Define target and features\n",
    "X = dfle\n",
    "y = df['Target']"
   ]
  },
  {
   "cell_type": "code",
   "execution_count": 54,
   "id": "4e984998-731e-4ab2-8ef1-13f0251e9dca",
   "metadata": {},
   "outputs": [],
   "source": [
    "# Define the model pipeline: preprocessing + LogisticRegression\n",
    "pipeline= Pipeline(steps=[('preprocessor',preprocessor),\n",
    "                  ('classification',LogisticRegression())\n",
    "                        ])"
   ]
  },
  {
   "cell_type": "code",
   "execution_count": 55,
   "id": "df8b165b-c556-4f0f-84a5-3e8eddb6df9f",
   "metadata": {},
   "outputs": [],
   "source": [
    "# Split data into training and validation sets\n",
    "X_train,X_val,y_train,y_val = train_test_split(X,y,test_size = 0.2)"
   ]
  },
  {
   "cell_type": "code",
   "execution_count": 56,
   "id": "cce499bc-379d-495c-b179-e19ce66d57dd",
   "metadata": {},
   "outputs": [
    {
     "data": {
      "text/plain": [
       "array([2, 2, 2, 2, 2, 2, 2, 2, 2, 2, 2, 2, 1, 2, 2, 2, 2, 2, 2, 2, 2, 2,\n",
       "       2, 2, 2, 2, 2, 1, 2, 2, 2, 2, 2, 2, 0, 2, 2, 2, 2, 2, 2, 2, 2, 2,\n",
       "       2, 2, 2, 0, 1, 2, 2, 1, 2, 2, 2, 2, 2, 2, 2, 2, 2, 2, 2, 2, 2, 2,\n",
       "       2, 2, 2, 2, 2, 2, 2, 1, 2, 1, 2, 2, 2, 2, 2, 2, 2, 2, 2, 2, 2, 1,\n",
       "       1, 1, 2, 2, 2, 2, 2, 2, 2, 2, 1, 2, 2, 2, 0, 2, 2, 2, 2, 2, 2, 2,\n",
       "       2, 2, 2, 2, 2, 2, 2, 2, 2, 2, 2, 2, 2, 2, 2, 2, 2, 0, 2, 2, 2, 2,\n",
       "       1, 2, 2, 2, 2, 2, 2, 2, 1, 2, 2, 2, 2, 2, 1, 0, 2, 2, 2, 2, 2, 2,\n",
       "       2, 2, 2, 2, 1, 2, 2, 1, 2, 2, 2, 2, 2, 2, 1, 2, 2, 1, 1, 2, 2, 2,\n",
       "       2, 2, 2, 2, 2, 2, 2, 2, 2, 2, 2, 2, 2, 2, 2, 2, 2, 2, 2, 2, 2, 2,\n",
       "       2, 2])"
      ]
     },
     "execution_count": 56,
     "metadata": {},
     "output_type": "execute_result"
    }
   ],
   "source": [
    "# Fit the pipeline on training data + Predict on validation set\n",
    "pipeline.fit(X_train,y_train)\n",
    "pipeline.predict(X_val)"
   ]
  },
  {
   "cell_type": "code",
   "execution_count": 57,
   "id": "6b018071-7934-41df-a16a-d57ac1948c04",
   "metadata": {},
   "outputs": [
    {
     "data": {
      "text/plain": [
       "0.34"
      ]
     },
     "execution_count": 57,
     "metadata": {},
     "output_type": "execute_result"
    }
   ],
   "source": [
    "# Evaluate model performance\n",
    "pipeline.score(X_val,y_val)"
   ]
  },
  {
   "cell_type": "markdown",
   "id": "e4a9510b-d08a-4b17-ac02-b0bb2e189207",
   "metadata": {},
   "source": [
    "### Model Performance and Improvements\r\n",
    "\r\n",
    "Initially, the model's accuracy score was relatively low, indicating room for improvement in predicting academic performance changes.\r\n",
    "\r\n",
    "To enhance the model's performance, I performed **hyperparameter tuning** and experimented with **different machine learning models**, including:\r\n",
    "\r\n",
    "- Random Forest Classifier\r\n",
    "- Logistic Regression\r\n",
    "- Support Vector Machin  lassifier\r\n",
    "\r\n",
    "This approach helped in identifying the best-performing model and optimal settings for achieving higher accuracy."
   ]
  },
  {
   "cell_type": "code",
   "execution_count": 58,
   "id": "d20db477-eb35-4eac-9363-1f559bd54546",
   "metadata": {},
   "outputs": [],
   "source": [
    "from sklearn import svm\n",
    "from sklearn.ensemble import RandomForestClassifier\n",
    "from sklearn.linear_model import LogisticRegression\n",
    "from sklearn.model_selection import GridSearchCV\n",
    "\n",
    "model_params = {\n",
    "    'svm': {\n",
    "        'model': svm.SVC(gamma='auto'),\n",
    "        'params' : {\n",
    "            'C': [1,10,20],\n",
    "            'kernel': ['rbf','linear']\n",
    "        }  \n",
    "    },\n",
    "    'random_forest': {\n",
    "        'model': RandomForestClassifier(),\n",
    "        'params' : {\n",
    "            'n_estimators': [1,5,10]\n",
    "        }\n",
    "    },\n",
    "    'logistic_regression' : {\n",
    "        'model': LogisticRegression(solver='liblinear',multi_class='auto'),\n",
    "        'params': {\n",
    "            'C': [1,5,10]\n",
    "        }\n",
    "    }\n",
    "}"
   ]
  },
  {
   "cell_type": "code",
   "execution_count": 59,
   "id": "3ebce0c8-52fe-42b5-9381-8719807681f0",
   "metadata": {},
   "outputs": [
    {
     "data": {
      "text/html": [
       "<div>\n",
       "<style scoped>\n",
       "    .dataframe tbody tr th:only-of-type {\n",
       "        vertical-align: middle;\n",
       "    }\n",
       "\n",
       "    .dataframe tbody tr th {\n",
       "        vertical-align: top;\n",
       "    }\n",
       "\n",
       "    .dataframe thead th {\n",
       "        text-align: right;\n",
       "    }\n",
       "</style>\n",
       "<table border=\"1\" class=\"dataframe\">\n",
       "  <thead>\n",
       "    <tr style=\"text-align: right;\">\n",
       "      <th></th>\n",
       "      <th>model</th>\n",
       "      <th>best_score</th>\n",
       "      <th>best_params</th>\n",
       "    </tr>\n",
       "  </thead>\n",
       "  <tbody>\n",
       "    <tr>\n",
       "      <th>0</th>\n",
       "      <td>svm</td>\n",
       "      <td>0.41250</td>\n",
       "      <td>{'C': 1, 'kernel': 'linear'}</td>\n",
       "    </tr>\n",
       "    <tr>\n",
       "      <th>1</th>\n",
       "      <td>random_forest</td>\n",
       "      <td>0.37625</td>\n",
       "      <td>{'n_estimators': 10}</td>\n",
       "    </tr>\n",
       "    <tr>\n",
       "      <th>2</th>\n",
       "      <td>logistic_regression</td>\n",
       "      <td>0.40125</td>\n",
       "      <td>{'C': 1}</td>\n",
       "    </tr>\n",
       "  </tbody>\n",
       "</table>\n",
       "</div>"
      ],
      "text/plain": [
       "                 model  best_score                   best_params\n",
       "0                  svm     0.41250  {'C': 1, 'kernel': 'linear'}\n",
       "1        random_forest     0.37625          {'n_estimators': 10}\n",
       "2  logistic_regression     0.40125                      {'C': 1}"
      ]
     },
     "execution_count": 59,
     "metadata": {},
     "output_type": "execute_result"
    }
   ],
   "source": [
    "scores = []\n",
    "\n",
    "for model_name, mp in model_params.items():\n",
    "    clf =  GridSearchCV(mp['model'], mp['params'], cv=5, return_train_score=False)\n",
    "    clf.fit(preprocessor.fit_transform(X_train), y_train)\n",
    "    scores.append({\n",
    "        'model': model_name,\n",
    "        'best_score': clf.best_score_,\n",
    "        'best_params': clf.best_params_\n",
    "    })\n",
    "    \n",
    "df = pd.DataFrame(scores,columns=['model','best_score','best_params'])\n",
    "df"
   ]
  },
  {
   "cell_type": "code",
   "execution_count": null,
   "id": "99c06a6c-af71-4308-b64b-c97f0f6d07a6",
   "metadata": {},
   "outputs": [],
   "source": []
  },
  {
   "cell_type": "code",
   "execution_count": 60,
   "id": "8f1f570a-edc7-4765-b824-59a095c0d256",
   "metadata": {},
   "outputs": [
    {
     "data": {
      "image/png": "[encoded data removed]",
      "text/plain": [
       "<Figure size 1000x600 with 1 Axes>"
      ]
     },
     "metadata": {},
     "output_type": "display_data"
    }
   ],
   "source": [
    "import matplotlib.pyplot as plt\n",
    "import seaborn as sns\n",
    "\n",
    "# Example model names and scores\n",
    "model_names = ['SVM','Random Forest','Logistic Regression']\n",
    "model_scores = [0.39375, 0.35125, 0.36500]  # replace with your actual scores\n",
    "\n",
    "# Create a DataFrame for better plotting with seaborn\n",
    "import pandas as pd\n",
    "df_scores = pd.DataFrame({\n",
    "    'Model':  model_names,\n",
    "    'Accuracy':model_scores\n",
    "})\n",
    "\n",
    "# Plot\n",
    "plt.figure(figsize=(10, 6))\n",
    "sns.barplot(x='Model', y='Accuracy', data=df_scores, palette='viridis')\n",
    "plt.title('Model Accuracy Comparison')\n",
    "plt.ylim(0, 1)\n",
    "plt.ylabel('Accuracy Score')\n",
    "plt.xlabel('Model')\n",
    "plt.xticks(rotation=15)\n",
    "plt.grid(axis='y')\n",
    "plt.tight_layout()\n",
    "plt.show()\n"
   ]
  },
  {
   "cell_type": "markdown",
   "id": "8517b521-fb25-4af6-be39-6b7bbf3cb26f",
   "metadata": {},
   "source": [
    "###  Conclusion\r\n",
    "\r\n",
    "After testing multiple models to predict academic performance changes in students, the **Support Vector Machine (SVM)** model performed the best overall in terms of accuracy.\r\n",
    "\r\n",
    "However, the general performance across models was relatively low, indicating that there might be room for improvement. To address this, I plan to explore **feature importance** to better understand which features are most influential and possibly remove or engineer new features to improve model performancclude:"
   ]
  },
  {
   "cell_type": "code",
   "execution_count": null,
   "id": "9c2f472c-51e6-4731-a92c-e543c4d848f7",
   "metadata": {},
   "outputs": [],
   "source": []
  }
 ],
 "metadata": {
  "kernelspec": {
   "display_name": "Python 3 (ipykernel)",
   "language": "python",
   "name": "python3"
  },
  "language_info": {
   "codemirror_mode": {
    "name": "ipython",
    "version": 3
   },
   "file_extension": ".py",
   "mimetype": "text/x-python",
   "name": "python",
   "nbconvert_exporter": "python",
   "pygments_lexer": "ipython3",
   "version": "3.12.0"
  }
 },
 "nbformat": 4,
 "nbformat_minor": 5
}
